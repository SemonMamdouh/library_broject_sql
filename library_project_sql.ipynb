{
 "cells": [
  {
   "cell_type": "markdown",
   "metadata": {},
   "source": [
    "## bonus online database"
   ]
  },
  {
   "cell_type": "code",
   "execution_count": 4,
   "metadata": {},
   "outputs": [],
   "source": [
    "import mysql.connector "
   ]
  },
  {
   "cell_type": "code",
   "execution_count": 6,
   "metadata": {},
   "outputs": [
    {
     "data": {
      "text/plain": [
       "True"
      ]
     },
     "execution_count": 6,
     "metadata": {},
     "output_type": "execute_result"
    }
   ],
   "source": [
    "import os\n",
    "from dotenv import load_dotenv\n",
    "\n",
    "# Load environment variables from .env file\n",
    "load_dotenv()"
   ]
  },
  {
   "cell_type": "code",
   "execution_count": 7,
   "metadata": {},
   "outputs": [
    {
     "name": "stdout",
     "output_type": "stream",
     "text": [
      "<mysql.connector.connection_cext.CMySQLConnection object at 0x0000022C60FD3790>\n"
     ]
    }
   ],
   "source": [
    "mydb = mysql.connector.connect(\n",
    "    host=os.getenv(\"DB_HOST\"),\n",
    "    user=os.getenv(\"DB_USER\"),\n",
    "    password=os.getenv(\"DB_PASSWORD\"),\n",
    "    port=os.getenv(\"DB_PORT\"),\n",
    "    database=os.getenv(\"DB_NAME\")\n",
    ")\n",
    "print(mydb)"
   ]
  },
  {
   "cell_type": "code",
   "execution_count": 3,
   "metadata": {},
   "outputs": [
    {
     "data": {
      "text/plain": [
       "<mysql.connector.cursor_cext.CMySQLCursor at 0x29f6981e4c0>"
      ]
     },
     "execution_count": 3,
     "metadata": {},
     "output_type": "execute_result"
    }
   ],
   "source": [
    "cursor = mydb.cursor()\n",
    "cursor"
   ]
  },
  {
   "cell_type": "code",
   "execution_count": 4,
   "metadata": {},
   "outputs": [
    {
     "data": {
      "text/plain": [
       "[(2,)]"
      ]
     },
     "execution_count": 4,
     "metadata": {},
     "output_type": "execute_result"
    }
   ],
   "source": [
    "#find the number of availalbe copies of the book (Dracula) \n",
    "cursor.execute(\"\"\"select (select count(*) as num_of_copies from Books \n",
    "where Title = 'Dracula') - (select count(distinct(Barcode))as not_available_copies from Loans as l \n",
    "inner join Books as b on l.BookID = b.BookID\n",
    "where title = 'Dracula' and  ReturnedDate is null ) as avilable_copies \n",
    "\"\"\")\n",
    "re= cursor.fetchall()\n",
    "re"
   ]
  },
  {
   "cell_type": "code",
   "execution_count": null,
   "metadata": {},
   "outputs": [],
   "source": [
    "# --  Add new books to the library  \n",
    "cursor.execute(\"\"\"INSERT INTO Books (BookID,Title,Author,Published,Barcode) VALUES\n",
    "(215, 'The Time Machine', 'H.G. Wells', 1895, '123456789015'),\n",
    "(216, 'Ulysses', 'James Joyce', 1922, '123456789016')\"\"\")\n",
    "re1 =cursor.fetchall()\n",
    "\n"
   ]
  },
  {
   "cell_type": "code",
   "execution_count": null,
   "metadata": {},
   "outputs": [],
   "source": [
    "#Check out Books: books(4043822646, 2855934983) whose \n",
    "#patron_email(jvaan49@wisdompets.com), loandate=2020-08-25, duedate=2020-09-08, loanid=by_your_choice*/\n",
    "cursor.execute(\"\"\"insert into Loans values (2001 , 11 , 50 ,  '2020-08-25' , '2020-09-08' ,null) ,\n",
    "(2002 , 93 ,50 , '2020-08-25' , '2020-09-08' ,null) \"\"\")\n",
    "re2 = cursor.fetchall()"
   ]
  },
  {
   "cell_type": "code",
   "execution_count": 10,
   "metadata": {},
   "outputs": [
    {
     "data": {
      "text/plain": [
       "[(1996,\n",
       "  10,\n",
       "  99,\n",
       "  '2020-06-29',\n",
       "  '2020-07-13',\n",
       "  None,\n",
       "  99,\n",
       "  'Kala',\n",
       "  'Simonian',\n",
       "  'ksimonian2q@landonhotel.com'),\n",
       " (1997,\n",
       "  155,\n",
       "  47,\n",
       "  '2020-06-29',\n",
       "  '2020-07-13',\n",
       "  None,\n",
       "  47,\n",
       "  'Lydie',\n",
       "  'Awmack',\n",
       "  'lawmack46@samoca.org'),\n",
       " (1998,\n",
       "  169,\n",
       "  18,\n",
       "  '2020-06-29',\n",
       "  '2020-07-13',\n",
       "  None,\n",
       "  18,\n",
       "  'Anthe',\n",
       "  'Dinjes',\n",
       "  'adinjesh17@samoca.org'),\n",
       " (1999,\n",
       "  73,\n",
       "  59,\n",
       "  '2020-06-29',\n",
       "  '2020-07-13',\n",
       "  None,\n",
       "  59,\n",
       "  'Cornelia',\n",
       "  'Koppe',\n",
       "  'ckoppe58@landonhotel.com')]"
      ]
     },
     "execution_count": 10,
     "metadata": {},
     "output_type": "execute_result"
    }
   ],
   "source": [
    "#Check books for Due back generate a report of books due back on July 13, 2020 with patron contact information\n",
    "cursor.execute(\"\"\"select * from Loans as l \n",
    " inner join Patrons as p on l.patronid = p.patronid\n",
    " where l.duedate = '2020-07-13' \"\"\")\n",
    "\n",
    "re3 =cursor.fetchall()\n",
    "re3"
   ]
  },
  {
   "cell_type": "code",
   "execution_count": 16,
   "metadata": {},
   "outputs": [],
   "source": [
    "#Return books to the library (which have barcode=6435968624) and return this book at this date(2020-07-05)  \n",
    "cursor.execute(\"\"\"update Loans \n",
    "set returneddate = '2020-07-05'\n",
    "where loanid = 1991 and bookid = 105 and patronid = 65\"\"\")\n"
   ]
  },
  {
   "cell_type": "code",
   "execution_count": 17,
   "metadata": {},
   "outputs": [
    {
     "data": {
      "text/plain": [
       "[(133,\n",
       "  105,\n",
       "  67,\n",
       "  '2016-09-07',\n",
       "  '2016-09-21',\n",
       "  '2016-09-21',\n",
       "  105,\n",
       "  'The Turn of the Screw',\n",
       "  'Henry James',\n",
       "  1898,\n",
       "  6435968624),\n",
       " (152,\n",
       "  105,\n",
       "  48,\n",
       "  '2016-09-22',\n",
       "  '2016-10-06',\n",
       "  '2016-10-06',\n",
       "  105,\n",
       "  'The Turn of the Screw',\n",
       "  'Henry James',\n",
       "  1898,\n",
       "  6435968624),\n",
       " (462,\n",
       "  105,\n",
       "  64,\n",
       "  '2017-04-22',\n",
       "  '2017-05-06',\n",
       "  '2017-05-06',\n",
       "  105,\n",
       "  'The Turn of the Screw',\n",
       "  'Henry James',\n",
       "  1898,\n",
       "  6435968624),\n",
       " (567,\n",
       "  105,\n",
       "  5,\n",
       "  '2017-07-15',\n",
       "  '2017-07-29',\n",
       "  '2017-07-29',\n",
       "  105,\n",
       "  'The Turn of the Screw',\n",
       "  'Henry James',\n",
       "  1898,\n",
       "  6435968624),\n",
       " (728,\n",
       "  105,\n",
       "  77,\n",
       "  '2017-12-04',\n",
       "  '2017-12-18',\n",
       "  '2017-12-18',\n",
       "  105,\n",
       "  'The Turn of the Screw',\n",
       "  'Henry James',\n",
       "  1898,\n",
       "  6435968624),\n",
       " (978,\n",
       "  105,\n",
       "  93,\n",
       "  '2018-06-20',\n",
       "  '2018-07-04',\n",
       "  '2018-07-04',\n",
       "  105,\n",
       "  'The Turn of the Screw',\n",
       "  'Henry James',\n",
       "  1898,\n",
       "  6435968624),\n",
       " (1125,\n",
       "  105,\n",
       "  17,\n",
       "  '2018-09-29',\n",
       "  '2018-10-13',\n",
       "  '2018-10-13',\n",
       "  105,\n",
       "  'The Turn of the Screw',\n",
       "  'Henry James',\n",
       "  1898,\n",
       "  6435968624),\n",
       " (1515,\n",
       "  105,\n",
       "  80,\n",
       "  '2019-07-17',\n",
       "  '2019-07-31',\n",
       "  '2019-07-31',\n",
       "  105,\n",
       "  'The Turn of the Screw',\n",
       "  'Henry James',\n",
       "  1898,\n",
       "  6435968624),\n",
       " (1552,\n",
       "  105,\n",
       "  72,\n",
       "  '2019-08-11',\n",
       "  '2019-08-25',\n",
       "  '2019-08-25',\n",
       "  105,\n",
       "  'The Turn of the Screw',\n",
       "  'Henry James',\n",
       "  1898,\n",
       "  6435968624),\n",
       " (1712,\n",
       "  105,\n",
       "  75,\n",
       "  '2019-12-06',\n",
       "  '2019-12-20',\n",
       "  '2019-12-20',\n",
       "  105,\n",
       "  'The Turn of the Screw',\n",
       "  'Henry James',\n",
       "  1898,\n",
       "  6435968624),\n",
       " (1951,\n",
       "  105,\n",
       "  52,\n",
       "  '2020-05-20',\n",
       "  '2020-06-03',\n",
       "  '2020-06-03',\n",
       "  105,\n",
       "  'The Turn of the Screw',\n",
       "  'Henry James',\n",
       "  1898,\n",
       "  6435968624),\n",
       " (1991,\n",
       "  105,\n",
       "  65,\n",
       "  '2020-06-25',\n",
       "  '2020-07-09',\n",
       "  '2020-07-05',\n",
       "  105,\n",
       "  'The Turn of the Screw',\n",
       "  'Henry James',\n",
       "  1898,\n",
       "  6435968624)]"
      ]
     },
     "execution_count": 17,
     "metadata": {},
     "output_type": "execute_result"
    }
   ],
   "source": [
    "cursor.execute(\"\"\"select * from Loans as l \n",
    "inner join Books as b on l.bookid = b.bookid\n",
    "where  barcode=6435968624 \"\"\")\n",
    "re5 = cursor.fetchall()\n",
    "re5"
   ]
  },
  {
   "cell_type": "code",
   "execution_count": 19,
   "metadata": {},
   "outputs": [
    {
     "data": {
      "text/plain": [
       "[(83, 'Caril', 9),\n",
       " (69, 'Alaster', 9),\n",
       " (73, 'Merle', 11),\n",
       " (64, 'Norby', 12),\n",
       " (94, 'Curr', 12),\n",
       " (12, 'Orton', 14),\n",
       " (16, 'Carla', 14),\n",
       " (7, 'Cammi', 14),\n",
       " (3, 'Aleen', 14),\n",
       " (21, 'Henri', 15)]"
      ]
     },
     "execution_count": 19,
     "metadata": {},
     "output_type": "execute_result"
    }
   ],
   "source": [
    "#Encourage Patrons to check out books   generate a report of showing 10 patrons who hav checked out the fewest books.\n",
    "cursor.execute(\"\"\"select p.patronid , firstname ,count(loanid) as num_of_loans from Loans as l \n",
    " inner join Patrons as p on l.patronid = p.patronid \n",
    " group by p.patronid \n",
    " order by num_of_loans asc\n",
    " limit 10\"\"\")\n",
    "re6= cursor.fetchall()\n",
    "re6"
   ]
  },
  {
   "cell_type": "code",
   "execution_count": 20,
   "metadata": {},
   "outputs": [
    {
     "data": {
      "text/plain": [
       "[(7, 'The Sign of the Four'),\n",
       " (11, 'The Picture of Dorian Gray'),\n",
       " (55, 'An Occurrence at Owl Creek Bridge'),\n",
       " (56, 'The Picture of Dorian Gray'),\n",
       " (98, 'An Occurrence at Owl Creek Bridge'),\n",
       " (128, 'The Picture of Dorian Gray'),\n",
       " (134, 'The Sign of the Four'),\n",
       " (138, 'The Sign of the Four'),\n",
       " (154, 'An Occurrence at Owl Creek Bridge')]"
      ]
     },
     "execution_count": 20,
     "metadata": {},
     "output_type": "execute_result"
    }
   ],
   "source": [
    "#Find books to feature for an event   create a list of books from 1890s that are currently available \n",
    "cursor.execute(\"\"\"select distinct(b.bookid) , b.title   from Loans as l \n",
    "inner join Books as b on l.bookid = b.bookid\n",
    "where published = 1890 and returneddate is not null \"\"\")\n",
    "re7= cursor.fetchall()\n",
    "re7"
   ]
  },
  {
   "cell_type": "code",
   "execution_count": 21,
   "metadata": {},
   "outputs": [
    {
     "data": {
      "text/plain": [
       "[(1890, 11),\n",
       " (1895, 11),\n",
       " (1850, 8),\n",
       " (1892, 7),\n",
       " (1884, 7),\n",
       " (1869, 6),\n",
       " (1898, 6),\n",
       " (1911, 6),\n",
       " (1859, 6),\n",
       " (1847, 6),\n",
       " (1922, 6),\n",
       " (1899, 5),\n",
       " (1876, 4),\n",
       " (1849, 4),\n",
       " (1852, 4),\n",
       " (1729, 4),\n",
       " (1923, 3),\n",
       " (1865, 3),\n",
       " (1858, 3),\n",
       " (1905, 3),\n",
       " (1887, 3),\n",
       " (1896, 3),\n",
       " (1886, 3),\n",
       " (1851, 3),\n",
       " (1813, 3),\n",
       " (1815, 3),\n",
       " (1818, 3),\n",
       " (1889, 3),\n",
       " (1878, 3),\n",
       " (1854, 3),\n",
       " (1920, 3),\n",
       " (1915, 3),\n",
       " (1908, 3),\n",
       " (1897, 3),\n",
       " (1839, 3),\n",
       " (1894, 3),\n",
       " (1883, 3),\n",
       " (1532, 3),\n",
       " (1861, 3),\n",
       " (1759, 3),\n",
       " (1791, 3),\n",
       " (1726, 3),\n",
       " (1900, 3),\n",
       " (1901, 3),\n",
       " (1880, 3),\n",
       " (1879, 3),\n",
       " (1914, 3),\n",
       " (1811, 3),\n",
       " (1921, 2),\n",
       " (1906, 2),\n",
       " (1670, 2),\n",
       " (1375, 2),\n",
       " (1913, 2),\n",
       " (1902, 2),\n",
       " (1689, 2),\n",
       " (1605, 2)]"
      ]
     },
     "execution_count": 21,
     "metadata": {},
     "output_type": "execute_result"
    }
   ],
   "source": [
    "#Book Statistics create a report to show how many books were published each year. \n",
    "cursor.execute(\"\"\"select published , count(bookid) as num_of_books from Books \n",
    "group by published \n",
    "ORDER BY num_of_books desc\"\"\")\n",
    "re = cursor.fetchall()\n",
    "re"
   ]
  },
  {
   "cell_type": "code",
   "execution_count": 22,
   "metadata": {},
   "outputs": [
    {
     "data": {
      "text/plain": [
       "[('Frankenstein; Or, The Modern Prometheus', 53),\n",
       " ('The War of the Worlds', 43),\n",
       " ('The Awakening, and Selected Short Stories', 43),\n",
       " ('The Scarlet Letter', 42),\n",
       " ('The Picture of Dorian Gray', 40)]"
      ]
     },
     "execution_count": 22,
     "metadata": {},
     "output_type": "execute_result"
    }
   ],
   "source": [
    "# create a report to show 5 most popular Books to check out\n",
    "cursor.execute(\"\"\"select b.title , count(l.loanid) as num_of_loans from Loans as l \n",
    "inner join Books as b on l.bookid = b.bookid\n",
    "group by b.title\n",
    "order by num_of_loans desc\n",
    "limit 5 \"\"\")\n",
    "re= cursor.fetchall()\n",
    "re"
   ]
  },
  {
   "cell_type": "code",
   "execution_count": null,
   "metadata": {},
   "outputs": [],
   "source": []
  }
 ],
 "metadata": {
  "kernelspec": {
   "display_name": "machine_learning",
   "language": "python",
   "name": "python3"
  },
  "language_info": {
   "codemirror_mode": {
    "name": "ipython",
    "version": 3
   },
   "file_extension": ".py",
   "mimetype": "text/x-python",
   "name": "python",
   "nbconvert_exporter": "python",
   "pygments_lexer": "ipython3",
   "version": "3.9.19"
  }
 },
 "nbformat": 4,
 "nbformat_minor": 2
}
